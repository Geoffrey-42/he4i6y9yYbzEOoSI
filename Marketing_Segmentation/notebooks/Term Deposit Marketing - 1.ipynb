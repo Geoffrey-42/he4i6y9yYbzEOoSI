{
 "cells": [
  {
   "cell_type": "markdown",
   "id": "3933908b",
   "metadata": {},
   "source": [
    "Importing Libraries"
   ]
  },
  {
   "cell_type": "code",
   "execution_count": 1,
   "id": "1b269cca",
   "metadata": {},
   "outputs": [],
   "source": [
    "import pandas as pd\n",
    "import numpy as np\n",
    "from math import isclose\n",
    "import matplotlib.pyplot as plt\n",
    "import random as rd\n",
    "\n",
    "from xgboost.sklearn import XGBClassifier\n",
    "\n",
    "from sklearn.tree import DecisionTreeClassifier, plot_tree\n",
    "from sklearn.model_selection import train_test_split\n",
    "from sklearn.metrics import classification_report\n",
    "from sklearn.compose import make_column_selector as selector\n",
    "from sklearn.compose import make_column_transformer\n",
    "from sklearn.compose import ColumnTransformer\n",
    "from sklearn.preprocessing import OneHotEncoder, StandardScaler, OrdinalEncoder, LabelEncoder\n",
    "from sklearn.linear_model import LogisticRegression\n",
    "from sklearn.model_selection import cross_validate\n",
    "from sklearn.model_selection import StratifiedKFold, KFold\n",
    "from sklearn.feature_selection import RFECV\n",
    "from sklearn.model_selection import GridSearchCV\n",
    "\n",
    "from imblearn.under_sampling import CondensedNearestNeighbour, RandomUnderSampler"
   ]
  },
  {
   "cell_type": "markdown",
   "id": "72e9e200",
   "metadata": {},
   "source": [
    "Importing raw data"
   ]
  },
  {
   "cell_type": "code",
   "execution_count": 2,
   "id": "31345143",
   "metadata": {
    "scrolled": true
   },
   "outputs": [
    {
     "name": "stdout",
     "output_type": "stream",
     "text": [
      "There are 40000 costumer datapoints\n",
      "\n",
      "There are 13 features, which are:\n",
      "{'default', 'day', 'job', 'marital', 'loan', 'age', 'housing', 'balance', 'duration', 'month', 'contact', 'campaign', 'education'}\n",
      "\n",
      "The numerical features are:\n",
      "['age', 'balance', 'day', 'duration', 'campaign']\n",
      "\n",
      "The categorical features are:\n",
      "['job', 'marital', 'education', 'default', 'housing', 'loan', 'contact', 'month']\n",
      "\n",
      "The 5 first customers data are:\n",
      "   age           job  marital  education default  balance housing loan  \\\n",
      "0   58    management  married   tertiary      no     2143     yes   no   \n",
      "1   44    technician   single  secondary      no       29     yes   no   \n",
      "2   33  entrepreneur  married  secondary      no        2     yes  yes   \n",
      "3   47   blue-collar  married    unknown      no     1506     yes   no   \n",
      "4   33       unknown   single    unknown      no        1      no   no   \n",
      "\n",
      "   contact  day month  duration  campaign  \n",
      "0  unknown    5   may       261         1  \n",
      "1  unknown    5   may       151         1  \n",
      "2  unknown    5   may        76         1  \n",
      "3  unknown    5   may        92         1  \n",
      "4  unknown    5   may       198         1  \n"
     ]
    }
   ],
   "source": [
    "dir = 'C:/Users/GEOFF/OneDrive/Documents/Apziva/Term_Deposit_Marketing/'\n",
    "path = dir+'data/raw/'\n",
    "dataframe = pd.read_csv(path+\"term-deposit-marketing-2020.csv\")\n",
    "target_name = 'y'\n",
    "target = dataframe[target_name]\n",
    "data = dataframe.drop(columns = [target_name])\n",
    "\n",
    "numerical_columns_selector = selector(dtype_exclude=object)\n",
    "categorical_columns_selector = selector(dtype_include=object)\n",
    "\n",
    "numerical_columns = numerical_columns_selector(data)\n",
    "categorical_columns = categorical_columns_selector(data)\n",
    "\n",
    "print('There are %s costumer datapoints'%len(data))\n",
    "print('\\nThere are %s features, which are:'%len(data.columns))\n",
    "print(set(data.columns))\n",
    "\n",
    "print('\\nThe numerical features are:')\n",
    "print(numerical_columns)\n",
    "\n",
    "print('\\nThe categorical features are:')\n",
    "print(categorical_columns)\n",
    "\n",
    "print('\\nThe 5 first customers data are:')\n",
    "print(data.head())"
   ]
  },
  {
   "cell_type": "markdown",
   "id": "44f09116",
   "metadata": {},
   "source": [
    "Discriminating the heterogeneous features"
   ]
  },
  {
   "cell_type": "code",
   "execution_count": 3,
   "id": "13e0c680",
   "metadata": {},
   "outputs": [
    {
     "name": "stdout",
     "output_type": "stream",
     "text": [
      "\n",
      "Description of the numerical features in the data:\n",
      "                age        balance           day      duration      campaign\n",
      "count  40000.000000   40000.000000  40000.000000  40000.000000  40000.000000\n",
      "mean      40.544600    1274.277550     16.017225    254.824300      2.882175\n",
      "std        9.641776    2903.769716      8.278127    259.366498      3.239051\n",
      "min       19.000000   -8019.000000      1.000000      0.000000      1.000000\n",
      "25%       33.000000      54.000000      8.000000    100.000000      1.000000\n",
      "50%       39.000000     407.000000     17.000000    175.000000      2.000000\n",
      "75%       48.000000    1319.000000     21.000000    313.000000      3.000000\n",
      "max       95.000000  102127.000000     31.000000   4918.000000     63.000000\n",
      "\n",
      "The binary categorical columns are:\n",
      "default  (2 values found)\n",
      "housing  (2 values found)\n",
      "loan  (2 values found)\n",
      "\n",
      "The other categorical columns are:\n",
      "job  (12 values found)\n",
      "marital  (3 values found)\n",
      "education  (4 values found)\n",
      "contact  (3 values found)\n",
      "month  (11 values found)\n"
     ]
    }
   ],
   "source": [
    "print('\\nDescription of the numerical features in the data:')\n",
    "print(data.describe())\n",
    "non_binary_categorical_columns = {}\n",
    "binary_categorical_columns = []\n",
    "for category in categorical_columns:\n",
    "    nb_cat = pd.Series.nunique(data[category])\n",
    "    if nb_cat > 2:\n",
    "        non_binary_categorical_columns[category] = f' ({nb_cat} values found)'\n",
    "    else:\n",
    "        binary_categorical_columns.append(category)\n",
    "\n",
    "print('\\nThe binary categorical columns are:')\n",
    "for cat in binary_categorical_columns:\n",
    "    print(cat, ' (2 values found)')\n",
    "print('\\nThe other categorical columns are:')\n",
    "for key, value in non_binary_categorical_columns.items():\n",
    "    print(key, value)\n",
    "non_binary_categorical_columns = list(non_binary_categorical_columns.keys())"
   ]
  },
  {
   "cell_type": "markdown",
   "id": "3b8b16ae",
   "metadata": {},
   "source": [
    "Encoding the categorical features and scaling the numerical features"
   ]
  },
  {
   "cell_type": "code",
   "execution_count": 4,
   "id": "f710db14",
   "metadata": {},
   "outputs": [
    {
     "name": "stdout",
     "output_type": "stream",
     "text": [
      "The transformed features names are\n",
      "['standardscaler__age' 'standardscaler__balance' 'standardscaler__day'\n",
      " 'standardscaler__duration' 'standardscaler__campaign'\n",
      " 'onehotencoder__job_admin' 'onehotencoder__job_blue-collar'\n",
      " 'onehotencoder__job_entrepreneur' 'onehotencoder__job_housemaid'\n",
      " 'onehotencoder__job_management' 'onehotencoder__job_retired'\n",
      " 'onehotencoder__job_self-employed' 'onehotencoder__job_services'\n",
      " 'onehotencoder__job_student' 'onehotencoder__job_technician'\n",
      " 'onehotencoder__job_unemployed' 'onehotencoder__job_unknown'\n",
      " 'onehotencoder__marital_divorced' 'onehotencoder__marital_married'\n",
      " 'onehotencoder__marital_single' 'onehotencoder__education_primary'\n",
      " 'onehotencoder__education_secondary' 'onehotencoder__education_tertiary'\n",
      " 'onehotencoder__education_unknown' 'onehotencoder__default_no'\n",
      " 'onehotencoder__default_yes' 'onehotencoder__housing_no'\n",
      " 'onehotencoder__housing_yes' 'onehotencoder__loan_no'\n",
      " 'onehotencoder__loan_yes' 'onehotencoder__contact_cellular'\n",
      " 'onehotencoder__contact_telephone' 'onehotencoder__contact_unknown'\n",
      " 'onehotencoder__month_apr' 'onehotencoder__month_aug'\n",
      " 'onehotencoder__month_dec' 'onehotencoder__month_feb'\n",
      " 'onehotencoder__month_jan' 'onehotencoder__month_jul'\n",
      " 'onehotencoder__month_jun' 'onehotencoder__month_mar'\n",
      " 'onehotencoder__month_may' 'onehotencoder__month_nov'\n",
      " 'onehotencoder__month_oct']\n",
      "\n",
      "The transformed dataset has a shape of (40000, 41)\n",
      "A total of 3 useless encoded features were removed\n"
     ]
    }
   ],
   "source": [
    "ColumnTransformer_ = make_column_transformer(\n",
    "    (StandardScaler(), numerical_columns),\n",
    "    (OneHotEncoder(), categorical_columns),\n",
    "    remainder='passthrough',\n",
    "    n_jobs = 4)\n",
    "\n",
    "Transformed_Columns = ColumnTransformer_.fit_transform(data)\n",
    "columns = ColumnTransformer_.get_feature_names_out()\n",
    "print(f'The transformed features names are\\n{columns}\\n')\n",
    "transformed_df = pd.DataFrame(Transformed_Columns.toarray(), columns = columns)\n",
    "\n",
    "# Dropping the \"no\" columns resulting from the one-hot encoding of binary categorical features\n",
    "columns_to_drop = []\n",
    "for feature in binary_categorical_columns:\n",
    "    columns_to_drop.append('onehotencoder__'+feature+'_no')\n",
    "transformed_df.drop(columns = columns_to_drop, inplace = True)\n",
    "\n",
    "print(f'The transformed dataset has a shape of {transformed_df.shape}')\n",
    "print(f'A total of {len(columns)-transformed_df.shape[1]} useless encoded features were removed')\n",
    "\n",
    "transformed_target = LabelEncoder().fit_transform(target)"
   ]
  },
  {
   "cell_type": "markdown",
   "id": "8f6180fe",
   "metadata": {},
   "source": [
    "Undersampling the data to obtain balance regarding to the target"
   ]
  },
  {
   "cell_type": "code",
   "execution_count": 5,
   "id": "afa81dd6",
   "metadata": {},
   "outputs": [
    {
     "name": "stdout",
     "output_type": "stream",
     "text": [
      "The data is unbalanced\n",
      "The proportion of the minority class is 0.07\n",
      "\n",
      "The dataset resulting from undersampling has a shape of (5792, 41) \n",
      "The label array resulting from undersampling has a shape of (5792,)\n",
      "The proportion of the minority class is now 0.50\n",
      "\n",
      "The data resulting from undersampling is now divided into a train and a test set 80/20%\n",
      "The train set and label array have a shape of  (4633, 41) (4633,)\n",
      "The test set and label array have a shape of  (1159, 41) (1159,)\n"
     ]
    }
   ],
   "source": [
    "print('The data is unbalanced')\n",
    "print(f'The proportion of the minority class is {sum(transformed_target)/transformed_target.shape[0]:.2f}\\n')\n",
    "\n",
    "# undersample = CondensedNearestNeighbour(n_neighbors=1)\n",
    "undersample = RandomUnderSampler(random_state=42)\n",
    "X, y = undersample.fit_resample(transformed_df, transformed_target)\n",
    "\n",
    "print('The dataset resulting from undersampling has a shape of', X.shape, \n",
    "      '\\nThe label array resulting from undersampling has a shape of', y.shape)\n",
    "print(f'The proportion of the minority class is now {sum(y)/y.shape[0]:.2f}\\n')\n",
    "\n",
    "data_train, data_test, target_train, target_test = train_test_split(\n",
    "    np.array(X), y, test_size = 0.2, stratify = y, random_state=42)\n",
    "\n",
    "print('The data resulting from undersampling is now divided into a train and a test set 80/20%')\n",
    "print('The train set and label array have a shape of ', data_train.shape, target_train.shape)\n",
    "print('The test set and label array have a shape of ', data_test.shape, target_test.shape)"
   ]
  },
  {
   "cell_type": "markdown",
   "id": "944543b7",
   "metadata": {},
   "source": [
    "Trying a Decision Tree model with a depth of 1 to detect the most informative feature"
   ]
  },
  {
   "cell_type": "code",
   "execution_count": 6,
   "id": "4f35574d",
   "metadata": {},
   "outputs": [
    {
     "name": "stdout",
     "output_type": "stream",
     "text": [
      "The mean cross-validation training accuracy is: 0.792 ± 0.002\n",
      "The mean cross-validation accuracy is: 0.792 ± 0.008\n",
      "\n",
      "The feature that yields the most information gain is standardscaler__duration\n",
      "The average call duration is 254 sec\n",
      " The standard deviation is 259 sec\n",
      "The call duration threshold is 376 sec\n",
      "The mean cross-validation accuracy was 0.792 just from using that criteria\n"
     ]
    },
    {
     "data": {
      "image/png": "[encoded data removed]",
      "text/plain": [
       "<Figure size 640x480 with 1 Axes>"
      ]
     },
     "metadata": {},
     "output_type": "display_data"
    }
   ],
   "source": [
    "simple_tree_model = DecisionTreeClassifier(max_depth = 1,\n",
    "                                    max_leaf_nodes = 2,\n",
    "                                    max_features = None,\n",
    "                                    random_state = 42)\n",
    "\n",
    "simple_tree_cv_results = cross_validate(simple_tree_model, data_train, target_train, cv=5, \n",
    "                                        return_train_score = True)\n",
    "\n",
    "t_scores = simple_tree_cv_results[\"train_score\"]\n",
    "print(\"The mean cross-validation training accuracy is: \"\n",
    "      f\"{t_scores.mean():.3f} ± {t_scores.std():.3f}\")\n",
    "scores = simple_tree_cv_results[\"test_score\"]\n",
    "print(\"The mean cross-validation accuracy is: \"\n",
    "      f\"{scores.mean():.3f} ± {scores.std():.3f}\")\n",
    "\n",
    "simple_tree_model.fit(data_train, target_train)\n",
    "plot_tree(simple_tree_model)\n",
    "\n",
    "print(f'\\nThe feature that yields the most information gain is {columns[3]}')\n",
    "\n",
    "this_transformed_column = transformed_df[columns[3]]\n",
    "this_column = np.array(dataframe['duration'])\n",
    "scaler = StandardScaler()\n",
    "this_retransformed_column = scaler.fit_transform(this_column.reshape(-1,1))\n",
    "print(f'The average call duration is {int(scaler.mean_)} sec\\n',\n",
    "      f'The standard deviation is {int(scaler.var_**0.5)} sec')\n",
    "\n",
    "threshold = scaler.inverse_transform(np.array([0.469]*40000).reshape(-1,1))\n",
    "print(f'The call duration threshold is {threshold[0,0]:.0f} sec')\n",
    "print(f'The mean cross-validation accuracy was {scores.mean():.3f} just from using that criteria')\n",
    "\n",
    "# Checking if the scaler StandardScaler fitted the column with the same parameters as ColumnTranformer did\n",
    "equal = np.array([isclose(this_retransformed_column[i], this_transformed_column[i], abs_tol = 1e-6) for i in range(40000)])\n",
    "assert equal.all()"
   ]
  },
  {
   "cell_type": "markdown",
   "id": "7c5a6dcf",
   "metadata": {},
   "source": [
    "Trying a Logistic Regression model (works)"
   ]
  },
  {
   "cell_type": "code",
   "execution_count": 7,
   "id": "37832e72",
   "metadata": {},
   "outputs": [
    {
     "name": "stdout",
     "output_type": "stream",
     "text": [
      "The mean cross-validation training accuracy is: 0.857 ± 0.002\n",
      "The mean cross-validation accuracy is: 0.852 ± 0.008\n"
     ]
    }
   ],
   "source": [
    "logis_model = LogisticRegression(penalty = 'l2',\n",
    "                                 C = 1.0,\n",
    "                                 solver = 'newton-cholesky', # sag and saga solvers can be tried as well\n",
    "                                 max_iter = 100,\n",
    "                                 n_jobs = 4)\n",
    "\n",
    "logis_cv_results = cross_validate(logis_model, data_train, target_train, cv=5, \n",
    "                                  return_train_score = True)\n",
    "\n",
    "t_scores = logis_cv_results[\"train_score\"]\n",
    "print(\"The mean cross-validation training accuracy is: \"\n",
    "      f\"{t_scores.mean():.3f} ± {t_scores.std():.3f}\")\n",
    "scores = logis_cv_results[\"test_score\"]\n",
    "print(\"The mean cross-validation accuracy is: \"\n",
    "      f\"{scores.mean():.3f} ± {scores.std():.3f}\")"
   ]
  },
  {
   "cell_type": "markdown",
   "id": "b249de1d",
   "metadata": {},
   "source": [
    "Trying a shallow Decision Tree model (works)"
   ]
  },
  {
   "cell_type": "code",
   "execution_count": 8,
   "id": "143502b8",
   "metadata": {},
   "outputs": [
    {
     "name": "stdout",
     "output_type": "stream",
     "text": [
      "The mean cross-validation training accuracy is: 0.838 ± 0.002\n",
      "The mean cross-validation accuracy is: 0.837 ± 0.015\n",
      "The selected features in this tree were:\n",
      "['standardscaler__duration', 'onehotencoder__month_apr', 'onehotencoder__month_mar', 'onehotencoder__housing_yes', 'onehotencoder__contact_unknown']\n",
      "From the decision tree, for clients with a call duration below the threshold\n",
      "if the last call was in April and if the client has no housing loan, or if last call was in March\n",
      "y is more likely to be 1\n"
     ]
    },
    {
     "data": {
      "image/png": "[encoded data removed]",
      "text/plain": [
       "<Figure size 640x480 with 1 Axes>"
      ]
     },
     "metadata": {},
     "output_type": "display_data"
    }
   ],
   "source": [
    "tree_model = DecisionTreeClassifier(max_depth = 3,\n",
    "                                    max_leaf_nodes = 20,\n",
    "                                    max_features = None,\n",
    "                                    random_state = 42)\n",
    "\n",
    "tree_cv_results = cross_validate(tree_model, data_train, target_train, cv=5, \n",
    "                                  return_train_score = True)\n",
    "\n",
    "t_scores = tree_cv_results[\"train_score\"]\n",
    "print(\"The mean cross-validation training accuracy is: \"\n",
    "      f\"{t_scores.mean():.3f} ± {t_scores.std():.3f}\")\n",
    "scores = tree_cv_results[\"test_score\"]\n",
    "print(\"The mean cross-validation accuracy is: \"\n",
    "      f\"{scores.mean():.3f} ± {scores.std():.3f}\")\n",
    "tree_model.fit(data_train, target_train)\n",
    "plot_tree(tree_model)\n",
    "print(f'The selected features in this tree were:\\n{list(transformed_df.iloc[:,[3,30,37,25,29]].columns)}')\n",
    "print('From the decision tree, for clients with a call duration below the threshold\\n' \n",
    "       'if the last call was in April and if the client has no housing loan, or if last call was in March\\n'\n",
    "        'y is more likely to be 1')"
   ]
  },
  {
   "cell_type": "markdown",
   "id": "3cadd8d9",
   "metadata": {},
   "source": [
    "Trying a XGBoost model"
   ]
  },
  {
   "cell_type": "raw",
   "id": "661773f9",
   "metadata": {},
   "source": [
    "The cell below takes a few minutes to run and can be skipped (GridSearch on XGBoost model)"
   ]
  },
  {
   "cell_type": "code",
   "execution_count": 9,
   "id": "17bfa9e3",
   "metadata": {
    "scrolled": true
   },
   "outputs": [
    {
     "name": "stdout",
     "output_type": "stream",
     "text": [
      "The best parameters in the specified grid are found to be\n",
      " {'learning_rate': 0.1, 'max_depth': 4, 'n_estimators': 201}\n",
      "Mean training accuracy: 0.924\n",
      "Cross-validation accuracy: 0.881\n"
     ]
    }
   ],
   "source": [
    "model = XGBClassifier(random_state=42)\n",
    "parameters = {'n_estimators':list(range(1,501,100)), \n",
    "              'max_depth':list(range(1,11,1)), \n",
    "              'learning_rate':[round(10**(i/10),3) for i in range(-20, 0, 5)]}\n",
    "clf = GridSearchCV(estimator = model, param_grid = parameters, cv = 5, return_train_score = True)\n",
    "clf.fit(data_train, target_train)\n",
    "print('The best parameters in the specified grid are found to be\\n', clf.best_params_)\n",
    "print(f\"Mean training accuracy: {clf.cv_results_['mean_train_score'][clf.best_index_]:0.3f}\")\n",
    "print(f'Cross-validation accuracy: {clf.best_score_:0.3f}')"
   ]
  },
  {
   "cell_type": "raw",
   "id": "d048c577",
   "metadata": {},
   "source": [
    "Returns:\n",
    "The best parameters in the specified grid are found to be\n",
    " {'learning_rate': 0.1, 'max_depth': 4, 'n_estimators': 201}\n",
    "Mean training accuracy: 0.924\n",
    "Cross-validation accuracy: 0.881"
   ]
  },
  {
   "cell_type": "code",
   "execution_count": 10,
   "id": "13c841b2",
   "metadata": {},
   "outputs": [],
   "source": [
    "best_params = {'learning_rate': 0.1, 'max_depth': 4, 'n_estimators': 200}"
   ]
  },
  {
   "cell_type": "markdown",
   "id": "2727a7a6",
   "metadata": {},
   "source": [
    "Trying the XGBoost model with above found parameters"
   ]
  },
  {
   "cell_type": "code",
   "execution_count": 11,
   "id": "feb1503a",
   "metadata": {},
   "outputs": [
    {
     "name": "stdout",
     "output_type": "stream",
     "text": [
      "The mean training accuracy is: 0.923 ± 0.003\n",
      "The mean cross-validation accuracy is: 0.881 ± 0.002\n"
     ]
    }
   ],
   "source": [
    "n_estimators = best_params['n_estimators']\n",
    "max_depth = best_params['max_depth']\n",
    "learning_rate = best_params['learning_rate']\n",
    "\n",
    "model = XGBClassifier(n_estimators = n_estimators, \n",
    "                             max_depth = max_depth, \n",
    "                             learning_rate = learning_rate, \n",
    "                             random_state = 42)\n",
    "\n",
    "cv_results = cross_validate(model, data_train, target_train, cv=5,\n",
    "                            return_train_score = True)\n",
    "\n",
    "t_scores = cv_results[\"train_score\"]\n",
    "print(\"The mean training accuracy is: \"\n",
    "      f\"{t_scores.mean():.3f} ± {t_scores.std():.3f}\")\n",
    "scores = cv_results[\"test_score\"]\n",
    "print(\"The mean cross-validation accuracy is: \"\n",
    "      f\"{scores.mean():.3f} ± {scores.std():.3f}\")"
   ]
  },
  {
   "cell_type": "markdown",
   "id": "bc362734",
   "metadata": {},
   "source": [
    "Overfitting test with max_depth variable"
   ]
  },
  {
   "cell_type": "code",
   "execution_count": 12,
   "id": "3978a80e",
   "metadata": {},
   "outputs": [
    {
     "data": {
      "image/png": "[encoded data removed]",
      "text/plain": [
       "<Figure size 640x480 with 1 Axes>"
      ]
     },
     "metadata": {},
     "output_type": "display_data"
    }
   ],
   "source": [
    "training_accuracies = []\n",
    "validation_accuracies = []\n",
    "for max_depth in range(1,11):\n",
    "    model = XGBClassifier(n_estimators = n_estimators, \n",
    "                                 max_depth = max_depth, \n",
    "                                 learning_rate = learning_rate, \n",
    "                                 random_state = 42)\n",
    "\n",
    "    cv_results = cross_validate(model, data_train, target_train, cv=5,\n",
    "                                return_train_score = True)\n",
    "\n",
    "    t_scores = cv_results[\"train_score\"]\n",
    "    training_accuracies.append(t_scores.mean())\n",
    "    scores = cv_results[\"test_score\"]\n",
    "    validation_accuracies.append(scores.mean())\n",
    "fig, ax = plt.subplots(1,1)\n",
    "ax.plot(list(range(1,11)), training_accuracies, color = 'blue', label = 'Training Accuracy')\n",
    "ax.plot(list(range(1,11)), validation_accuracies, color = 'red', label = 'Validation Accuracy')\n",
    "ax.legend(fontsize = 12)\n",
    "ax.set_xlabel('Max_depth')\n",
    "ax.set_ylabel('Model Accuracy')\n",
    "ax.set_title('Overfitting test')\n",
    "plt.show()"
   ]
  },
  {
   "cell_type": "markdown",
   "id": "be97ad3f",
   "metadata": {},
   "source": [
    "The cross-validation accuracy results will be displayed in detail for each run"
   ]
  },
  {
   "cell_type": "code",
   "execution_count": 13,
   "id": "7abb00ab",
   "metadata": {},
   "outputs": [],
   "source": [
    "best_params = {'learning_rate': 0.1, 'max_depth': 4, 'n_estimators': 200}\n",
    "n_estimators = best_params['n_estimators']\n",
    "max_depth = best_params['max_depth']\n",
    "learning_rate = best_params['learning_rate']\n",
    "\n",
    "model = XGBClassifier(n_estimators = n_estimators, \n",
    "                             max_depth = max_depth, \n",
    "                             learning_rate = learning_rate, \n",
    "                             random_state = 42)"
   ]
  },
  {
   "cell_type": "code",
   "execution_count": 14,
   "id": "34adca74",
   "metadata": {
    "scrolled": true
   },
   "outputs": [
    {
     "name": "stdout",
     "output_type": "stream",
     "text": [
      "              precision    recall  f1-score   support\n",
      "\n",
      "           0       0.92      0.84      0.87       464\n",
      "           1       0.85      0.92      0.89       463\n",
      "\n",
      "    accuracy                           0.88       927\n",
      "   macro avg       0.88      0.88      0.88       927\n",
      "weighted avg       0.88      0.88      0.88       927\n",
      "\n",
      "              precision    recall  f1-score   support\n",
      "\n",
      "           0       0.91      0.85      0.88       463\n",
      "           1       0.86      0.92      0.89       464\n",
      "\n",
      "    accuracy                           0.88       927\n",
      "   macro avg       0.88      0.88      0.88       927\n",
      "weighted avg       0.88      0.88      0.88       927\n",
      "\n",
      "              precision    recall  f1-score   support\n",
      "\n",
      "           0       0.90      0.84      0.87       463\n",
      "           1       0.85      0.91      0.88       464\n",
      "\n",
      "    accuracy                           0.88       927\n",
      "   macro avg       0.88      0.88      0.88       927\n",
      "weighted avg       0.88      0.88      0.88       927\n",
      "\n",
      "              precision    recall  f1-score   support\n",
      "\n",
      "           0       0.91      0.84      0.88       463\n",
      "           1       0.85      0.92      0.88       463\n",
      "\n",
      "    accuracy                           0.88       926\n",
      "   macro avg       0.88      0.88      0.88       926\n",
      "weighted avg       0.88      0.88      0.88       926\n",
      "\n",
      "              precision    recall  f1-score   support\n",
      "\n",
      "           0       0.92      0.84      0.88       463\n",
      "           1       0.85      0.93      0.89       463\n",
      "\n",
      "    accuracy                           0.88       926\n",
      "   macro avg       0.89      0.88      0.88       926\n",
      "weighted avg       0.89      0.88      0.88       926\n",
      "\n",
      "cross validation accuracy = 0.8806393740927909\n"
     ]
    }
   ],
   "source": [
    "def Kfold_crossvalidation(partition):\n",
    "    accuracy = 0\n",
    "    n = 0\n",
    "    for train, test in partition:\n",
    "        model.fit(data_train[train], target_train[train])\n",
    "        target_train_predict = model.predict(data_train[test])\n",
    "        accuracy += model.score(data_train[test], target_train[test])\n",
    "        n += 1\n",
    "        print(classification_report(target_train[test], target_train_predict))\n",
    "    accuracy *= 1/n\n",
    "    print(f'cross validation accuracy = {accuracy}')\n",
    "\n",
    "skf = StratifiedKFold(5, shuffle = False)\n",
    "Kfold_crossvalidation(skf.split(data_train, target_train))"
   ]
  },
  {
   "cell_type": "code",
   "execution_count": 15,
   "id": "5c32db65",
   "metadata": {},
   "outputs": [
    {
     "name": "stdout",
     "output_type": "stream",
     "text": [
      "\n",
      "For the Logistic Regression model, the test results are:\n",
      "\n",
      "              precision    recall  f1-score   support\n",
      "\n",
      "           0       0.89      0.87      0.88       580\n",
      "           1       0.87      0.89      0.88       579\n",
      "\n",
      "    accuracy                           0.88      1159\n",
      "   macro avg       0.88      0.88      0.88      1159\n",
      "weighted avg       0.88      0.88      0.88      1159\n",
      "\n",
      "For the Decision Tree model, the test results are:\n",
      "\n",
      "              precision    recall  f1-score   support\n",
      "\n",
      "           0       0.83      0.84      0.83       580\n",
      "           1       0.84      0.83      0.83       579\n",
      "\n",
      "    accuracy                           0.83      1159\n",
      "   macro avg       0.83      0.83      0.83      1159\n",
      "weighted avg       0.83      0.83      0.83      1159\n",
      "\n",
      "For the XGBoost model, the test results are:\n",
      "\n",
      "              precision    recall  f1-score   support\n",
      "\n",
      "           0       0.93      0.84      0.88       580\n",
      "           1       0.86      0.93      0.89       579\n",
      "\n",
      "    accuracy                           0.89      1159\n",
      "   macro avg       0.89      0.89      0.89      1159\n",
      "weighted avg       0.89      0.89      0.89      1159\n",
      "\n"
     ]
    }
   ],
   "source": [
    "logis_model.fit(data_train, target_train)\n",
    "target_test_predict = logis_model.predict(data_test)\n",
    "print('\\nFor the Logistic Regression model, the test results are:\\n')\n",
    "print(classification_report(target_test, target_test_predict))\n",
    "\n",
    "tree_model.fit(data_train, target_train)\n",
    "target_test_predict = tree_model.predict(data_test)\n",
    "print('For the Decision Tree model, the test results are:\\n')\n",
    "print(classification_report(target_test, target_test_predict))\n",
    "\n",
    "model.fit(data_train, target_train)\n",
    "target_test_predict = model.predict(data_test)\n",
    "print('For the XGBoost model, the test results are:\\n')\n",
    "print(classification_report(target_test, target_test_predict))"
   ]
  }
 ],
 "metadata": {
  "kernelspec": {
   "display_name": "Python 3 (ipykernel)",
   "language": "python",
   "name": "python3"
  },
  "language_info": {
   "codemirror_mode": {
    "name": "ipython",
    "version": 3
   },
   "file_extension": ".py",
   "mimetype": "text/x-python",
   "name": "python",
   "nbconvert_exporter": "python",
   "pygments_lexer": "ipython3",
   "version": "3.10.9"
  }
 },
 "nbformat": 4,
 "nbformat_minor": 5
}
